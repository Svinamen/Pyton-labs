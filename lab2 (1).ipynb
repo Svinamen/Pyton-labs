{
 "cells": [
  {
   "cell_type": "markdown",
   "id": "numerous-spirit",
   "metadata": {},
   "source": [
    "## Лабораторна робота №2\n",
    "1.Виконати набір вправ. Всі завдання виконати 2 способами:\n",
    "* а)з використанням універмальних функцій бібліотеки NumPy\n",
    "* В)за допомогою ітеративних конструкцій (з використанням циклів, спискових включень тощо).\n",
    "* с) для обох випадків підрахувати час виконання скрипту та зробити висновок\n",
    "***\n",
    "Варіант 6:1,3,4,6,10,12,15,17,18"
   ]
  },
  {
   "cell_type": "markdown",
   "id": "offshore-somalia",
   "metadata": {},
   "source": [
    "Вправа 1. Вводиться число n. Вивести масив разміра nхn, в якому по\n",
    "діагоналі йдуть числа від 1 до n, а інші числа рівні 0"
   ]
  },
  {
   "cell_type": "code",
   "execution_count": 1,
   "id": "geographic-sweden",
   "metadata": {},
   "outputs": [
    {
     "name": "stdout",
     "output_type": "stream",
     "text": [
      "2.07 µs ± 46.7 ns per loop (mean ± std. dev. of 7 runs, 100000 loops each)\n"
     ]
    }
   ],
   "source": [
    "%%timeit\n",
    "#упражнение 1\n",
    "n = 5\n",
    "a = [[0] * n for i in range(n)]\n",
    "for i in range(n):\n",
    "    a[i][i] = (i+1)\n",
    "a"
   ]
  },
  {
   "cell_type": "code",
   "execution_count": 2,
   "id": "daily-committee",
   "metadata": {},
   "outputs": [
    {
     "name": "stdout",
     "output_type": "stream",
     "text": [
      "5.48 µs ± 132 ns per loop (mean ± std. dev. of 7 runs, 100000 loops each)\n"
     ]
    }
   ],
   "source": [
    "%%timeit\n",
    "#упражнение 1 numPy\n",
    "import numpy as np\n",
    "n = 5\n",
    "np.diag(np.arange(1,n)+1)"
   ]
  },
  {
   "cell_type": "markdown",
   "id": "editorial-hollywood",
   "metadata": {},
   "source": [
    "Вправа 3. Вводяться 4 числа n, m, r, c. Вивести масив розміру n на m, в\n",
    "якому в кожному r -му рядку і в кожному c-му стовпчику стоять 0, а інші\n",
    "елементи дорівнюють 1."
   ]
  },
  {
   "cell_type": "code",
   "execution_count": 3,
   "id": "flexible-third",
   "metadata": {},
   "outputs": [
    {
     "name": "stdout",
     "output_type": "stream",
     "text": [
      "12.5 µs ± 574 ns per loop (mean ± std. dev. of 7 runs, 100000 loops each)\n"
     ]
    }
   ],
   "source": [
    "%%timeit\n",
    "#упражнение 3\n",
    "n,m,r,c = 6,7,2,3\n",
    "a = [[1] * m for i in range(n)]\n",
    "for i in range(n):\n",
    "    for j in range(m):\n",
    "        if(i % r == 0):\n",
    "            a[i][j] = 0\n",
    "        if(j%c == 0):\n",
    "            a[i][j] = 0\n",
    "a"
   ]
  },
  {
   "cell_type": "code",
   "execution_count": 4,
   "id": "identified-found",
   "metadata": {},
   "outputs": [
    {
     "name": "stdout",
     "output_type": "stream",
     "text": [
      "22.3 µs ± 420 ns per loop (mean ± std. dev. of 7 runs, 10000 loops each)\n"
     ]
    }
   ],
   "source": [
    "%%timeit\n",
    "#упражнение 3 numpy\n",
    "import numpy as np\n",
    "n,m,r,c = 6,7,2,3\n",
    "a = np.ones((n,m),dtype = int)\n",
    "for i in range(n):\n",
    "    for j in range(m):\n",
    "        if(i % r == 0):\n",
    "            a[i][j] = 0\n",
    "        if(j%c == 0):\n",
    "            a[i][j] = 0\n",
    "a"
   ]
  },
  {
   "cell_type": "markdown",
   "id": "federal-bronze",
   "metadata": {},
   "source": [
    "Вправа 4. Вводяться числа n і m. Вивести масив розміру n на m, в якому у\n",
    "першому рядку (рядок з нулевим індексом) йдуть числа від 0 до m-1, а всі\n",
    "інші елементи матриці дорівнюють 0."
   ]
  },
  {
   "cell_type": "code",
   "execution_count": 5,
   "id": "classical-dubai",
   "metadata": {},
   "outputs": [
    {
     "name": "stdout",
     "output_type": "stream",
     "text": [
      "3.13 µs ± 51.9 ns per loop (mean ± std. dev. of 7 runs, 100000 loops each)\n"
     ]
    }
   ],
   "source": [
    "%%timeit\n",
    "#упраженение 4 \n",
    "n,m = 10,10\n",
    "a = [[1] * n for i in range(m)]\n",
    "for i in range(n):\n",
    "    a[0][i] = i\n",
    "a"
   ]
  },
  {
   "cell_type": "code",
   "execution_count": 6,
   "id": "increasing-consent",
   "metadata": {},
   "outputs": [
    {
     "name": "stdout",
     "output_type": "stream",
     "text": [
      "2.29 µs ± 46 ns per loop (mean ± std. dev. of 7 runs, 100000 loops each)\n"
     ]
    }
   ],
   "source": [
    "%%timeit\n",
    "#упраженение 4  numpy\n",
    "import numpy as np\n",
    "n,m = 10,10\n",
    "a = np.zeros((n,m),dtype = int)\n",
    "a[0] = np.arange(m)\n",
    "a"
   ]
  },
  {
   "cell_type": "markdown",
   "id": "through-eligibility",
   "metadata": {},
   "source": [
    "Вправа 6. З клавіатури вводиться масив. Замінити всі ненульові елементи на - 1."
   ]
  },
  {
   "cell_type": "code",
   "execution_count": 7,
   "id": "radio-fifty",
   "metadata": {},
   "outputs": [
    {
     "name": "stdout",
     "output_type": "stream",
     "text": [
      "1.82 µs ± 59.2 ns per loop (mean ± std. dev. of 7 runs, 1000000 loops each)\n"
     ]
    }
   ],
   "source": [
    "%%timeit\n",
    "#упражнение 6\n",
    "a = [1,2,3,4,5,0,0,0,-6,-3,-9,9,0,0,0,4]\n",
    "for i in range(len(a)):\n",
    "    if(a[i]!=0):\n",
    "        a[i] = -1\n",
    "a"
   ]
  },
  {
   "cell_type": "code",
   "execution_count": 8,
   "id": "pediatric-explorer",
   "metadata": {},
   "outputs": [
    {
     "name": "stdout",
     "output_type": "stream",
     "text": [
      "5.86 µs ± 116 ns per loop (mean ± std. dev. of 7 runs, 100000 loops each)\n"
     ]
    }
   ],
   "source": [
    "%%timeit\n",
    "#упражнение 6 numpy\n",
    "import numpy as np\n",
    "a = np.array([1,2,3,4,5,0,0,0,-6,-3,-9,9,0,0,0,4])\n",
    "np.where(a!= 0, -1, 0)"
   ]
  },
  {
   "cell_type": "markdown",
   "id": "korean-debate",
   "metadata": {},
   "source": [
    "Вправа 10. Вводиться числа n i m. Створити масив випадкових значень n на m\n",
    "і обчислити мінімальне, максимальне значення, середнє та середньо\n",
    "квадратичне відхилення, округлене до 3 знаків після коми"
   ]
  },
  {
   "cell_type": "code",
   "execution_count": 9,
   "id": "incredible-sewing",
   "metadata": {},
   "outputs": [
    {
     "name": "stdout",
     "output_type": "stream",
     "text": [
      "82.9 µs ± 1.55 µs per loop (mean ± std. dev. of 7 runs, 10000 loops each)\n"
     ]
    }
   ],
   "source": [
    "%%timeit\n",
    "#упражнение 10 numpy\n",
    "import numpy as np\n",
    "import math\n",
    "s = int(0)\n",
    "n,m = 10,10\n",
    "a  = np.random.random((n,m))\n",
    "for i in range(n):\n",
    "    for j in range(m):\n",
    "        s += a[i][j] ** 2 \n",
    "#print(\"max: \",np.max(a))\n",
    "#print(\"min: \", np.min(a))\n",
    "#print(\"avg: \", np.sum(a)/(n*m))\n",
    "#print(\"avg**2: \",math.sqrt(s/(n*m)))  "
   ]
  },
  {
   "cell_type": "code",
   "execution_count": 10,
   "id": "local-actress",
   "metadata": {},
   "outputs": [
    {
     "name": "stdout",
     "output_type": "stream",
     "text": [
      "52.3 µs ± 1.07 µs per loop (mean ± std. dev. of 7 runs, 10000 loops each)\n"
     ]
    }
   ],
   "source": [
    "%%timeit\n",
    "#упражнение 10       \n",
    "import numpy as np\n",
    "import math\n",
    "import random\n",
    "s = int(0)\n",
    "n,m = 10,10\n",
    "a  = [[random.random() for j in range(m)] for i in range(n)]\n",
    "for i in range(n):\n",
    "    for j in range(m):\n",
    "        s += a[i][j] ** 2 \n",
    "#print(\"max: \",np.max(a))\n",
    "#print(\"min: \", np.min(a))\n",
    "#print(\"avg: \", np.sum(a)/(n*m))\n",
    "#print(\"avg**2: \",math.sqrt(s/(n*m)))  "
   ]
  },
  {
   "cell_type": "markdown",
   "id": "responsible-worst",
   "metadata": {},
   "source": [
    "Вправа 12. Створити масив одиниць розміром n х n та створити в ньому\n",
    "«рамку», сформовану з 0."
   ]
  },
  {
   "cell_type": "code",
   "execution_count": 11,
   "id": "aboriginal-radical",
   "metadata": {},
   "outputs": [
    {
     "name": "stdout",
     "output_type": "stream",
     "text": [
      "14.8 µs ± 172 ns per loop (mean ± std. dev. of 7 runs, 100000 loops each)\n"
     ]
    }
   ],
   "source": [
    "%%timeit\n",
    "import numpy as np\n",
    "#упражнение 12 numpy\n",
    "n = int(10)\n",
    "a = np.ones((n,n),dtype = int)\n",
    "for i in range(n):\n",
    "    a[0][i],a[n-1][i],a[i][0],a[i][n-1] = 0,0,0,0\n",
    "a"
   ]
  },
  {
   "cell_type": "code",
   "execution_count": 12,
   "id": "greek-bloom",
   "metadata": {},
   "outputs": [
    {
     "name": "stdout",
     "output_type": "stream",
     "text": [
      "6.24 µs ± 254 ns per loop (mean ± std. dev. of 7 runs, 100000 loops each)\n"
     ]
    }
   ],
   "source": [
    "%%timeit\n",
    "#упражнение 12\n",
    "n = int(10)\n",
    "a = [[1] * n for i in range(n)]\n",
    "for i in range(n):\n",
    "    a[0][i],a[n-1][i],a[i][0],a[i][n-1] = 0,0,0,0\n",
    "a"
   ]
  },
  {
   "cell_type": "markdown",
   "id": "ruled-journey",
   "metadata": {},
   "source": [
    "Вправа 15. Заповнити парні стовбчики матриці розміром n х n одиницями, а\n",
    "непарні – нулями."
   ]
  },
  {
   "cell_type": "code",
   "execution_count": 13,
   "id": "ordinary-player",
   "metadata": {},
   "outputs": [
    {
     "name": "stdout",
     "output_type": "stream",
     "text": [
      "7.31 µs ± 123 ns per loop (mean ± std. dev. of 7 runs, 100000 loops each)\n"
     ]
    }
   ],
   "source": [
    "%%timeit\n",
    "import numpy as np\n",
    "#упражнение 15 numpy\n",
    "n = 10\n",
    "a = np.zeros((n,n),dtype = int)\n",
    "for i in range(n):\n",
    "    a[i][1::2] = 1\n",
    "a"
   ]
  },
  {
   "cell_type": "code",
   "execution_count": 14,
   "id": "mexican-undergraduate",
   "metadata": {},
   "outputs": [
    {
     "name": "stdout",
     "output_type": "stream",
     "text": [
      "15.9 µs ± 1.32 µs per loop (mean ± std. dev. of 7 runs, 100000 loops each)\n"
     ]
    }
   ],
   "source": [
    "%%timeit\n",
    "#упражнение 15\n",
    "n = 10\n",
    "a = [[0] * n for i in range(n)]\n",
    "for i in range(n):\n",
    "    for j in range(n):\n",
    "        if(j % 2 != 0):\n",
    "            a[i][j] = 1\n",
    "a"
   ]
  },
  {
   "cell_type": "markdown",
   "id": "painted-chancellor",
   "metadata": {},
   "source": [
    "Вправа 17. Заповнити вектор значеннями від 0 до n. Замінити знаки для всіх\n",
    "значеннь, що менші за n/2 та більші за 3n/4 на протилежні"
   ]
  },
  {
   "cell_type": "code",
   "execution_count": 15,
   "id": "central-african",
   "metadata": {},
   "outputs": [
    {
     "name": "stdout",
     "output_type": "stream",
     "text": [
      "26.5 µs ± 441 ns per loop (mean ± std. dev. of 7 runs, 10000 loops each)\n"
     ]
    }
   ],
   "source": [
    "%%timeit\n",
    "#упражнение 17 numpy\n",
    "import numpy as np\n",
    "n = int(10)\n",
    "a = np.arange(n)\n",
    "for i in range(n):\n",
    "    if(a[i] < n/2 or a[i] > ((3*n)/4)):\n",
    "        a[i] = -a[i]\n",
    "a"
   ]
  },
  {
   "cell_type": "code",
   "execution_count": 16,
   "id": "framed-hopkins",
   "metadata": {},
   "outputs": [
    {
     "name": "stdout",
     "output_type": "stream",
     "text": [
      "3.92 µs ± 59.2 ns per loop (mean ± std. dev. of 7 runs, 100000 loops each)\n"
     ]
    }
   ],
   "source": [
    "%%timeit\n",
    "#упражнение 17\n",
    "n = int(10)\n",
    "a = [m for m in range(n)]\n",
    "for i in range(n):\n",
    "    if(a[i] < n/2 or a[i] > ((3*n)/4)):\n",
    "        a[i] = -a[i]\n",
    "a"
   ]
  },
  {
   "cell_type": "markdown",
   "id": "important-combat",
   "metadata": {},
   "source": [
    "Вправа 18. Згенерувати вектор з n випадкових чисел в діапазоні від 0 до 99.\n",
    "Визначити кількість унікальних чисел в послідовності."
   ]
  },
  {
   "cell_type": "code",
   "execution_count": 17,
   "id": "potential-oliver",
   "metadata": {},
   "outputs": [
    {
     "name": "stdout",
     "output_type": "stream",
     "text": [
      "234 µs ± 11.1 µs per loop (mean ± std. dev. of 7 runs, 1000 loops each)\n"
     ]
    }
   ],
   "source": [
    "%%timeit\n",
    "#упражнение 18 numpy\n",
    "import numpy as np\n",
    "n,summ = 30,0\n",
    "a = np.random.randint(0,99,n)\n",
    "for i in range(len(a)):\n",
    "    temp = 0\n",
    "    for j in range(len(a)):\n",
    "        if (i != j and a[i] == a[j]):\n",
    "            temp = 1\n",
    "            break\n",
    "    if (temp == 0):\n",
    "        summ += 1\n",
    "    temp = 0\n",
    "a, \"уніикальних чисел: \", summ"
   ]
  },
  {
   "cell_type": "code",
   "execution_count": 18,
   "id": "spare-basin",
   "metadata": {
    "scrolled": false
   },
   "outputs": [
    {
     "name": "stdout",
     "output_type": "stream",
     "text": [
      "155 µs ± 4.78 µs per loop (mean ± std. dev. of 7 runs, 10000 loops each)\n"
     ]
    }
   ],
   "source": [
    "%%timeit\n",
    "import random\n",
    "#упражнение 18\n",
    "n,summ = 30,0\n",
    "a = [random.randint(0,99) for i in range(n)] \n",
    "for i in range(len(a)):\n",
    "    temp = 0\n",
    "    for j in range(len(a)):\n",
    "        if (i != j and a[i] == a[j]):\n",
    "            temp = 1\n",
    "            break\n",
    "    if (temp == 0):\n",
    "        summ += 1\n",
    "    temp = 0\n",
    "a,\"Унікальних чисел: \", summ"
   ]
  },
  {
   "cell_type": "markdown",
   "id": "palestinian-nigeria",
   "metadata": {},
   "source": [
    "В цілому numpy трохи повільніший чим звичайних список, через те, що виділяється більше пам'яті для numpy, але якщо потрібно виконувати математичні операції, numpy  підходить тут краще, бо в ньому є зручні встроєні функції"
   ]
  },
  {
   "cell_type": "markdown",
   "id": "bridal-suspect",
   "metadata": {},
   "source": [
    "2. Розв’язати систему за допомогою формул Крамера і виконати перевірку за\n",
    "допомогою:\n",
    "* a) матричного множення;\n",
    "* b) оберненої матриці;\n",
    "* c) функції numpy.linalg.solve().\n",
    "***\n",
    "$$2)=\\begin{cases}\n",
    "x_{1} + 5x_{2}+3x_{3}-4x{4}=10,&\\\\\n",
    "3x_{1}+x_{2}-2x_{3}=9,&\\\\\n",
    "3x_{1}-7x_{2}+10x_{4}=-9,&\\\\\n",
    "3x_{2}-5x_{3}= 1\n",
    "\\end{cases}\n",
    "$$"
   ]
  },
  {
   "cell_type": "code",
   "execution_count": 19,
   "id": "generous-settle",
   "metadata": {
    "scrolled": true
   },
   "outputs": [
    {
     "name": "stdout",
     "output_type": "stream",
     "text": [
      "Набір елементів A:  [[ 1  5  3 -4]\n",
      " [ 3  1 -2  0]\n",
      " [ 5 -7  0 10]\n",
      " [ 0  3 -5  0]]\n",
      "Набір елементів B:  [20  9 -9  1]\n",
      "Детермінант:  -630.0000000000001\n",
      "Корні рівняння:  [ 3.  2.  1. -1.]\n",
      "Перевірка чреез матричне множення:\n",
      "19.999999999999996 == 20\n",
      "8.999999999999993 == 9\n",
      "-9.0 == -9\n",
      "0.9999999999999964 == 1\n",
      "Перевірка через обернену матрицю: [[ 1.00000000e+00 -2.22044605e-16  0.00000000e+00 -2.63677968e-16]\n",
      " [-5.55111512e-17  1.00000000e+00  0.00000000e+00 -1.11022302e-16]\n",
      " [ 5.55111512e-17  8.32667268e-17  1.00000000e+00  0.00000000e+00]\n",
      " [ 1.11022302e-16  4.44089210e-16  0.00000000e+00  1.00000000e+00]] Діагональні елементи дорівнюють одиниці\n",
      "Перевірка через функцію np.linalg.silve(): [ 3.  2.  1. -1.]\n"
     ]
    }
   ],
   "source": [
    "import numpy as np\n",
    "n = 4\n",
    "a = np.array([[1,5,3,-4], [3,1,-2,0],[5,-7,0,10],[0,3,-5,0]])\n",
    "b = np.array([20,9,-9,1])\n",
    "print(\"Набір елементів A: \",a)\n",
    "print(\"Набір елементів B: \",b)\n",
    "x = np.zeros(n, dtype = float)\n",
    "det = np.linalg.det(a)\n",
    "print(\"Детермінант: \",det)\n",
    "for i in range(n):\n",
    "    temp = np.copy(a)\n",
    "    for j in range(n):\n",
    "        temp[j][i] = b[j]\n",
    "    x[i] = float(np.linalg.det(temp)/det)\n",
    "print(\"Корні рівняння: \",x)\n",
    "print(\"Перевірка чреез матричне множення:\")\n",
    "for i in range(n):\n",
    "    summ = 0\n",
    "    for j in range(n):\n",
    "        summ = summ + a[i][j]*x[j]\n",
    "    print(summ, \"==\",b[i])\n",
    "print(\"Перевірка через обернену матрицю:\",np.linalg.inv(a) @ a, \"Діагональні елементи дорівнюють одиниці\")\n",
    "print(\"Перевірка через функцію np.linalg.silve():\",np.linalg.solve(a,b))"
   ]
  },
  {
   "cell_type": "markdown",
   "id": "lovely-catholic",
   "metadata": {},
   "source": [
    "#### 3.Oбчислити значення матричного виразу:\n",
    "* а)з використанням універсальних функцій бібліотеки NumPy\n",
    "* В)за допомогою ітераційних конструкцій (з використанням циклів, спискових включень)\n",
    "\n",
    "$$(A-B^{2})\\cdot(2A+B)де,\n",
    "A = \\left(\\begin{array}{c}5&2&0\\\\ \n",
    "10&4&1\\\\\n",
    "7&3&2\n",
    "\\end{array}\\right)\n",
    "B=\\left(\\begin{array}{c}3&6&-1\\\\\n",
    "-1&-2&0\\\\\n",
    "2&1&3\\end{array}\\right)\n",
    "$$"
   ]
  },
  {
   "cell_type": "code",
   "execution_count": 20,
   "id": "short-natural",
   "metadata": {
    "scrolled": true
   },
   "outputs": [
    {
     "name": "stdout",
     "output_type": "stream",
     "text": [
      "12 µs ± 679 ns per loop (mean ± std. dev. of 7 runs, 100000 loops each)\n"
     ]
    }
   ],
   "source": [
    "%%timeit\n",
    "import numpy as np\n",
    "a = np.array([[5,2,0],[10,4,1],[7,3,2]])\n",
    "b = np.array([[3,6,-1],[-1,-2,0],[2,1,3]])\n",
    "(a-b.dot(b))*(2*a+b)"
   ]
  },
  {
   "cell_type": "code",
   "execution_count": 21,
   "id": "administrative-draft",
   "metadata": {
    "scrolled": true
   },
   "outputs": [
    {
     "name": "stdout",
     "output_type": "stream",
     "text": [
      "19.6 µs ± 1.26 µs per loop (mean ± std. dev. of 7 runs, 100000 loops each)\n"
     ]
    }
   ],
   "source": [
    "%%timeit\n",
    "n = int(3)\n",
    "a = [[5,2,0],[10,4,1],[7,3,2]]\n",
    "b = [[3,6,-1],[-1,-2,0],[2,1,3]]\n",
    "arr_bb = [[0]*3,[0]*3,[0]*3]\n",
    "arr_x = [[0]*3,[0]*3,[0]*3]\n",
    "for i in range(n):\n",
    "    for j in range(n):\n",
    "        for k in range(n):\n",
    "            arr_bb[i][j] += b[i][k] * b[k][j]\n",
    "        arr_x[i][j] = (a[i][j] - arr_bb[i][j]) * ((a[i][j] * 2) + b[i][j])\n",
    "arr_x         "
   ]
  },
  {
   "cell_type": "markdown",
   "id": "looking-manchester",
   "metadata": {},
   "source": [
    "##### Висновок: В даному прикладі робота алгоритму за допомогою універсальної бібліотеки numpy на 100 міктоекунд довше виконується"
   ]
  }
 ],
 "metadata": {
  "kernelspec": {
   "display_name": "Python 3",
   "language": "python",
   "name": "python3"
  },
  "language_info": {
   "codemirror_mode": {
    "name": "ipython",
    "version": 3
   },
   "file_extension": ".py",
   "mimetype": "text/x-python",
   "name": "python",
   "nbconvert_exporter": "python",
   "pygments_lexer": "ipython3",
   "version": "3.8.5"
  }
 },
 "nbformat": 4,
 "nbformat_minor": 5
}
